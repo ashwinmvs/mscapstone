{
 "cells": [
  {
   "cell_type": "markdown",
   "id": "04d2c537",
   "metadata": {},
   "source": [
    "# Capstone Modeling Notebook\n",
    "\n",
    "This notebook trains and evaluates two models — XGBoost and LSTM — to predict the next-day direction (up/down) for the Magnificent 7 stocks using engineered features."
   ]
  },
  {
   "cell_type": "markdown",
   "id": "32b7de76",
   "metadata": {},
   "source": [
    "## 1. Load the Final Dataset\n",
    "- Load `final_features_dataset.csv`\n",
    "- Drop columns not used for modeling (e.g., raw Open, High, Low, etc.)\n",
    "- Exclude date and ticker from input features"
   ]
  },
  {
   "cell_type": "code",
   "execution_count": 23,
   "id": "444d9b86",
   "metadata": {},
   "outputs": [
    {
     "name": "stdout",
     "output_type": "stream",
     "text": [
      "Features shape: (491, 24)\n",
      "Target shape: (491,)\n"
     ]
    }
   ],
   "source": [
    "import pandas as pd\n",
    "import numpy as np\n",
    "\n",
    "# Load dataset\n",
    "df = pd.read_csv('final_features_dataset.csv')\n",
    "\n",
    "# Drop irrelevant columns\n",
    "drop_cols = [col for col in df.columns if str(col).lower() in ['date', 'ticker', 'open', 'high', 'low', 'adj close', 'volume']]\n",
    "X = df.drop(columns=drop_cols + ['direction'])\n",
    "y = df['direction']\n",
    "\n",
    "# Sanity check\n",
    "print('Features shape:', X.shape)\n",
    "print('Target shape:', y.shape)\n",
    "assert not X.isnull().any().any(), \"NaNs in X\"\n",
    "assert not y.isnull().any(), \"NaNs in y\""
   ]
  },
  {
   "cell_type": "markdown",
   "id": "7ebf2778",
   "metadata": {},
   "source": [
    "## 2. Prepare Train/Test Data\n",
    "- Split into features X and target y (direction)\n",
    "- Use time-based split (80% train, 20% test)\n",
    "- Optionally normalize features (especially for LSTM)"
   ]
  },
  {
   "cell_type": "code",
   "execution_count": 26,
   "id": "a83fb548",
   "metadata": {},
   "outputs": [
    {
     "name": "stdout",
     "output_type": "stream",
     "text": [
      "XGBoost-ready shapes:\n",
      "X_train_scaled: (392, 24)\n",
      "X_test_scaled : (99, 24)\n",
      "\n",
      "LSTM-ready shapes:\n",
      "X_train_lstm  : (392, 1, 24)\n",
      "X_test_lstm   : (99, 1, 24)\n",
      "\n",
      "Targets:\n",
      "y_train: (392,)\n",
      "y_test : (99,)\n"
     ]
    }
   ],
   "source": [
    "from sklearn.model_selection import train_test_split\n",
    "from sklearn.preprocessing import StandardScaler\n",
    "import numpy as np\n",
    "\n",
    "# ---------------------------\n",
    "# 1. Time-Based Train/Test Split\n",
    "# ---------------------------\n",
    "split_idx = int(0.8 * len(X))\n",
    "\n",
    "X_train = X.iloc[:split_idx]\n",
    "X_test = X.iloc[split_idx:]\n",
    "y_train = y.iloc[:split_idx]\n",
    "y_test = y.iloc[split_idx:]\n",
    "\n",
    "# Save indexes in case you need to track date/ticker later\n",
    "X_train_index = X_train.index\n",
    "X_test_index = X_test.index\n",
    "\n",
    "# ---------------------------\n",
    "# 2. Normalize Features\n",
    "# ---------------------------\n",
    "scaler = StandardScaler()\n",
    "X_train_scaled = scaler.fit_transform(X_train)\n",
    "X_test_scaled = scaler.transform(X_test)\n",
    "\n",
    "# ---------------------------\n",
    "# 3. Reshape for LSTM\n",
    "# ---------------------------\n",
    "# Reshape to: (samples, timesteps=1, features)\n",
    "X_train_lstm = X_train_scaled.reshape((X_train_scaled.shape[0], 1, X_train_scaled.shape[1]))\n",
    "X_test_lstm = X_test_scaled.reshape((X_test_scaled.shape[0], 1, X_test_scaled.shape[1]))\n",
    "\n",
    "# ---------------------------\n",
    "# 4. Sanity Check\n",
    "# ---------------------------\n",
    "print(\"XGBoost-ready shapes:\")\n",
    "print(\"X_train_scaled:\", X_train_scaled.shape)\n",
    "print(\"X_test_scaled :\", X_test_scaled.shape)\n",
    "\n",
    "print(\"\\nLSTM-ready shapes:\")\n",
    "print(\"X_train_lstm  :\", X_train_lstm.shape)\n",
    "print(\"X_test_lstm   :\", X_test_lstm.shape)\n",
    "\n",
    "print(\"\\nTargets:\")\n",
    "print(\"y_train:\", y_train.shape)\n",
    "print(\"y_test :\", y_test.shape)"
   ]
  },
  {
   "cell_type": "code",
   "execution_count": 27,
   "id": "592d7f7d",
   "metadata": {},
   "outputs": [
    {
     "name": "stdout",
     "output_type": "stream",
     "text": [
      "Train class distribution:\n",
      "direction\n",
      "1    223\n",
      "0    169\n",
      "Name: count, dtype: int64\n",
      "Test class distribution:\n",
      "direction\n",
      "1    54\n",
      "0    45\n",
      "Name: count, dtype: int64\n"
     ]
    }
   ],
   "source": [
    "# Check class distribution in train and test sets\n",
    "print('Train class distribution:')\n",
    "print(y_train.value_counts())\n",
    "print('Test class distribution:')\n",
    "print(y_test.value_counts())"
   ]
  },
  {
   "cell_type": "code",
   "execution_count": 18,
   "id": "24199b24",
   "metadata": {},
   "outputs": [
    {
     "name": "stdout",
     "output_type": "stream",
     "text": [
      "Train date range: 2022-08-17 to 2025-08-01\n",
      "Test date range: 2024-05-14 to 2025-08-01\n",
      "Train class distribution by date:\n"
     ]
    },
    {
     "data": {
      "application/vnd.microsoft.datawrangler.viewer.v0+json": {
       "columns": [
        {
         "name": "date",
         "rawType": "object",
         "type": "string"
        },
        {
         "name": "0",
         "rawType": "int64",
         "type": "integer"
        },
        {
         "name": "1",
         "rawType": "int64",
         "type": "integer"
        }
       ],
       "ref": "19bf4aab-67ae-4ba2-9a46-5aeff33d6a0f",
       "rows": [
        [
         "2025-07-03",
         "4",
         "0"
        ],
        [
         "2025-07-07",
         "2",
         "1"
        ],
        [
         "2025-07-08",
         "1",
         "0"
        ],
        [
         "2025-07-09",
         "2",
         "1"
        ],
        [
         "2025-07-10",
         "4",
         "0"
        ],
        [
         "2025-07-11",
         "1",
         "0"
        ],
        [
         "2025-07-15",
         "1",
         "1"
        ],
        [
         "2025-07-16",
         "1",
         "0"
        ],
        [
         "2025-07-17",
         "3",
         "1"
        ],
        [
         "2025-07-18",
         "3",
         "0"
        ],
        [
         "2025-07-21",
         "4",
         "1"
        ],
        [
         "2025-07-22",
         "4",
         "0"
        ],
        [
         "2025-07-23",
         "3",
         "0"
        ],
        [
         "2025-07-24",
         "2",
         "0"
        ],
        [
         "2025-07-25",
         "3",
         "0"
        ],
        [
         "2025-07-28",
         "5",
         "0"
        ],
        [
         "2025-07-29",
         "5",
         "0"
        ],
        [
         "2025-07-30",
         "4",
         "0"
        ],
        [
         "2025-07-31",
         "6",
         "0"
        ],
        [
         "2025-08-01",
         "6",
         "0"
        ]
       ],
       "shape": {
        "columns": 2,
        "rows": 20
       }
      },
      "text/html": [
       "<div>\n",
       "<style scoped>\n",
       "    .dataframe tbody tr th:only-of-type {\n",
       "        vertical-align: middle;\n",
       "    }\n",
       "\n",
       "    .dataframe tbody tr th {\n",
       "        vertical-align: top;\n",
       "    }\n",
       "\n",
       "    .dataframe thead th {\n",
       "        text-align: right;\n",
       "    }\n",
       "</style>\n",
       "<table border=\"1\" class=\"dataframe\">\n",
       "  <thead>\n",
       "    <tr style=\"text-align: right;\">\n",
       "      <th>direction</th>\n",
       "      <th>0</th>\n",
       "      <th>1</th>\n",
       "    </tr>\n",
       "    <tr>\n",
       "      <th>date</th>\n",
       "      <th></th>\n",
       "      <th></th>\n",
       "    </tr>\n",
       "  </thead>\n",
       "  <tbody>\n",
       "    <tr>\n",
       "      <th>2025-07-03</th>\n",
       "      <td>4</td>\n",
       "      <td>0</td>\n",
       "    </tr>\n",
       "    <tr>\n",
       "      <th>2025-07-07</th>\n",
       "      <td>2</td>\n",
       "      <td>1</td>\n",
       "    </tr>\n",
       "    <tr>\n",
       "      <th>2025-07-08</th>\n",
       "      <td>1</td>\n",
       "      <td>0</td>\n",
       "    </tr>\n",
       "    <tr>\n",
       "      <th>2025-07-09</th>\n",
       "      <td>2</td>\n",
       "      <td>1</td>\n",
       "    </tr>\n",
       "    <tr>\n",
       "      <th>2025-07-10</th>\n",
       "      <td>4</td>\n",
       "      <td>0</td>\n",
       "    </tr>\n",
       "    <tr>\n",
       "      <th>2025-07-11</th>\n",
       "      <td>1</td>\n",
       "      <td>0</td>\n",
       "    </tr>\n",
       "    <tr>\n",
       "      <th>2025-07-15</th>\n",
       "      <td>1</td>\n",
       "      <td>1</td>\n",
       "    </tr>\n",
       "    <tr>\n",
       "      <th>2025-07-16</th>\n",
       "      <td>1</td>\n",
       "      <td>0</td>\n",
       "    </tr>\n",
       "    <tr>\n",
       "      <th>2025-07-17</th>\n",
       "      <td>3</td>\n",
       "      <td>1</td>\n",
       "    </tr>\n",
       "    <tr>\n",
       "      <th>2025-07-18</th>\n",
       "      <td>3</td>\n",
       "      <td>0</td>\n",
       "    </tr>\n",
       "    <tr>\n",
       "      <th>2025-07-21</th>\n",
       "      <td>4</td>\n",
       "      <td>1</td>\n",
       "    </tr>\n",
       "    <tr>\n",
       "      <th>2025-07-22</th>\n",
       "      <td>4</td>\n",
       "      <td>0</td>\n",
       "    </tr>\n",
       "    <tr>\n",
       "      <th>2025-07-23</th>\n",
       "      <td>3</td>\n",
       "      <td>0</td>\n",
       "    </tr>\n",
       "    <tr>\n",
       "      <th>2025-07-24</th>\n",
       "      <td>2</td>\n",
       "      <td>0</td>\n",
       "    </tr>\n",
       "    <tr>\n",
       "      <th>2025-07-25</th>\n",
       "      <td>3</td>\n",
       "      <td>0</td>\n",
       "    </tr>\n",
       "    <tr>\n",
       "      <th>2025-07-28</th>\n",
       "      <td>5</td>\n",
       "      <td>0</td>\n",
       "    </tr>\n",
       "    <tr>\n",
       "      <th>2025-07-29</th>\n",
       "      <td>5</td>\n",
       "      <td>0</td>\n",
       "    </tr>\n",
       "    <tr>\n",
       "      <th>2025-07-30</th>\n",
       "      <td>4</td>\n",
       "      <td>0</td>\n",
       "    </tr>\n",
       "    <tr>\n",
       "      <th>2025-07-31</th>\n",
       "      <td>6</td>\n",
       "      <td>0</td>\n",
       "    </tr>\n",
       "    <tr>\n",
       "      <th>2025-08-01</th>\n",
       "      <td>6</td>\n",
       "      <td>0</td>\n",
       "    </tr>\n",
       "  </tbody>\n",
       "</table>\n",
       "</div>"
      ],
      "text/plain": [
       "direction   0  1\n",
       "date            \n",
       "2025-07-03  4  0\n",
       "2025-07-07  2  1\n",
       "2025-07-08  1  0\n",
       "2025-07-09  2  1\n",
       "2025-07-10  4  0\n",
       "2025-07-11  1  0\n",
       "2025-07-15  1  1\n",
       "2025-07-16  1  0\n",
       "2025-07-17  3  1\n",
       "2025-07-18  3  0\n",
       "2025-07-21  4  1\n",
       "2025-07-22  4  0\n",
       "2025-07-23  3  0\n",
       "2025-07-24  2  0\n",
       "2025-07-25  3  0\n",
       "2025-07-28  5  0\n",
       "2025-07-29  5  0\n",
       "2025-07-30  4  0\n",
       "2025-07-31  6  0\n",
       "2025-08-01  6  0"
      ]
     },
     "metadata": {},
     "output_type": "display_data"
    },
    {
     "name": "stdout",
     "output_type": "stream",
     "text": [
      "Test class distribution by date:\n"
     ]
    },
    {
     "data": {
      "application/vnd.microsoft.datawrangler.viewer.v0+json": {
       "columns": [
        {
         "name": "date",
         "rawType": "object",
         "type": "string"
        },
        {
         "name": "0",
         "rawType": "int64",
         "type": "integer"
        }
       ],
       "ref": "20feb930-a2ea-413b-a5b1-d23604bd6ad5",
       "rows": [
        [
         "2024-05-14",
         "1"
        ],
        [
         "2024-05-24",
         "1"
        ],
        [
         "2024-05-30",
         "1"
        ],
        [
         "2024-06-05",
         "1"
        ],
        [
         "2024-06-07",
         "1"
        ],
        [
         "2024-06-11",
         "1"
        ],
        [
         "2024-06-13",
         "1"
        ],
        [
         "2024-06-14",
         "1"
        ],
        [
         "2024-07-01",
         "1"
        ],
        [
         "2024-07-03",
         "1"
        ],
        [
         "2024-07-10",
         "1"
        ],
        [
         "2024-07-11",
         "1"
        ],
        [
         "2024-07-15",
         "1"
        ],
        [
         "2024-07-16",
         "1"
        ],
        [
         "2024-07-30",
         "1"
        ],
        [
         "2024-09-13",
         "1"
        ],
        [
         "2024-09-19",
         "1"
        ],
        [
         "2024-09-26",
         "1"
        ],
        [
         "2024-09-30",
         "1"
        ],
        [
         "2024-10-10",
         "1"
        ]
       ],
       "shape": {
        "columns": 1,
        "rows": 20
       }
      },
      "text/html": [
       "<div>\n",
       "<style scoped>\n",
       "    .dataframe tbody tr th:only-of-type {\n",
       "        vertical-align: middle;\n",
       "    }\n",
       "\n",
       "    .dataframe tbody tr th {\n",
       "        vertical-align: top;\n",
       "    }\n",
       "\n",
       "    .dataframe thead th {\n",
       "        text-align: right;\n",
       "    }\n",
       "</style>\n",
       "<table border=\"1\" class=\"dataframe\">\n",
       "  <thead>\n",
       "    <tr style=\"text-align: right;\">\n",
       "      <th>direction</th>\n",
       "      <th>0</th>\n",
       "    </tr>\n",
       "    <tr>\n",
       "      <th>date</th>\n",
       "      <th></th>\n",
       "    </tr>\n",
       "  </thead>\n",
       "  <tbody>\n",
       "    <tr>\n",
       "      <th>2024-05-14</th>\n",
       "      <td>1</td>\n",
       "    </tr>\n",
       "    <tr>\n",
       "      <th>2024-05-24</th>\n",
       "      <td>1</td>\n",
       "    </tr>\n",
       "    <tr>\n",
       "      <th>2024-05-30</th>\n",
       "      <td>1</td>\n",
       "    </tr>\n",
       "    <tr>\n",
       "      <th>2024-06-05</th>\n",
       "      <td>1</td>\n",
       "    </tr>\n",
       "    <tr>\n",
       "      <th>2024-06-07</th>\n",
       "      <td>1</td>\n",
       "    </tr>\n",
       "    <tr>\n",
       "      <th>2024-06-11</th>\n",
       "      <td>1</td>\n",
       "    </tr>\n",
       "    <tr>\n",
       "      <th>2024-06-13</th>\n",
       "      <td>1</td>\n",
       "    </tr>\n",
       "    <tr>\n",
       "      <th>2024-06-14</th>\n",
       "      <td>1</td>\n",
       "    </tr>\n",
       "    <tr>\n",
       "      <th>2024-07-01</th>\n",
       "      <td>1</td>\n",
       "    </tr>\n",
       "    <tr>\n",
       "      <th>2024-07-03</th>\n",
       "      <td>1</td>\n",
       "    </tr>\n",
       "    <tr>\n",
       "      <th>2024-07-10</th>\n",
       "      <td>1</td>\n",
       "    </tr>\n",
       "    <tr>\n",
       "      <th>2024-07-11</th>\n",
       "      <td>1</td>\n",
       "    </tr>\n",
       "    <tr>\n",
       "      <th>2024-07-15</th>\n",
       "      <td>1</td>\n",
       "    </tr>\n",
       "    <tr>\n",
       "      <th>2024-07-16</th>\n",
       "      <td>1</td>\n",
       "    </tr>\n",
       "    <tr>\n",
       "      <th>2024-07-30</th>\n",
       "      <td>1</td>\n",
       "    </tr>\n",
       "    <tr>\n",
       "      <th>2024-09-13</th>\n",
       "      <td>1</td>\n",
       "    </tr>\n",
       "    <tr>\n",
       "      <th>2024-09-19</th>\n",
       "      <td>1</td>\n",
       "    </tr>\n",
       "    <tr>\n",
       "      <th>2024-09-26</th>\n",
       "      <td>1</td>\n",
       "    </tr>\n",
       "    <tr>\n",
       "      <th>2024-09-30</th>\n",
       "      <td>1</td>\n",
       "    </tr>\n",
       "    <tr>\n",
       "      <th>2024-10-10</th>\n",
       "      <td>1</td>\n",
       "    </tr>\n",
       "  </tbody>\n",
       "</table>\n",
       "</div>"
      ],
      "text/plain": [
       "direction   0\n",
       "date         \n",
       "2024-05-14  1\n",
       "2024-05-24  1\n",
       "2024-05-30  1\n",
       "2024-06-05  1\n",
       "2024-06-07  1\n",
       "2024-06-11  1\n",
       "2024-06-13  1\n",
       "2024-06-14  1\n",
       "2024-07-01  1\n",
       "2024-07-03  1\n",
       "2024-07-10  1\n",
       "2024-07-11  1\n",
       "2024-07-15  1\n",
       "2024-07-16  1\n",
       "2024-07-30  1\n",
       "2024-09-13  1\n",
       "2024-09-19  1\n",
       "2024-09-26  1\n",
       "2024-09-30  1\n",
       "2024-10-10  1"
      ]
     },
     "metadata": {},
     "output_type": "display_data"
    }
   ],
   "source": [
    "# Show date range and class distribution for train and test sets\n",
    "if 'date' in df.columns:\n",
    "    print('Train date range:', df.iloc[:split_idx]['date'].min(), 'to', df.iloc[:split_idx]['date'].max())\n",
    "    print('Test date range:', df.iloc[split_idx:]['date'].min(), 'to', df.iloc[split_idx:]['date'].max())\n",
    "    print('Train class distribution by date:')\n",
    "    display(df.iloc[:split_idx].groupby('date')['direction'].value_counts().unstack(fill_value=0).tail(20))\n",
    "    print('Test class distribution by date:')\n",
    "    display(df.iloc[split_idx:].groupby('date')['direction'].value_counts().unstack(fill_value=0).head(20))\n",
    "else:\n",
    "    print('No date column found in the dataset.')"
   ]
  },
  {
   "cell_type": "markdown",
   "id": "b550ec71",
   "metadata": {},
   "source": [
    "## 3. Train an XGBoost Classifier\n",
    "- Use XGBClassifier from xgboost\n",
    "- Fit to the training set\n",
    "- Evaluate on test set: Accuracy, F1 Score, Confusion Matrix, Feature Importance Plot"
   ]
  },
  {
   "cell_type": "code",
   "execution_count": 14,
   "id": "453f39fb",
   "metadata": {},
   "outputs": [
    {
     "name": "stdout",
     "output_type": "stream",
     "text": [
      "XGBoost Accuracy: 1.0000\n",
      "XGBoost F1 Score: 0.0000\n"
     ]
    },
    {
     "name": "stderr",
     "output_type": "stream",
     "text": [
      "/Users/lezilez/Projects/capstone/capstone-venv/lib/python3.11/site-packages/xgboost/training.py:183: UserWarning: [23:27:03] WARNING: /Users/runner/work/xgboost/xgboost/src/learner.cc:738: \n",
      "Parameters: { \"use_label_encoder\" } are not used.\n",
      "\n",
      "  bst.update(dtrain, iteration=i, fobj=obj)\n",
      "/Users/lezilez/Projects/capstone/capstone-venv/lib/python3.11/site-packages/sklearn/metrics/_classification.py:1731: UndefinedMetricWarning: F-score is ill-defined and being set to 0.0 due to no true nor predicted samples. Use `zero_division` parameter to control this behavior.\n",
      "  _warn_prf(average, modifier, f\"{metric.capitalize()} is\", result.shape[0])\n",
      "/Users/lezilez/Projects/capstone/capstone-venv/lib/python3.11/site-packages/sklearn/metrics/_classification.py:534: UserWarning: A single label was found in 'y_true' and 'y_pred'. For the confusion matrix to have the correct shape, use the 'labels' parameter to pass all known labels.\n",
      "  warnings.warn(\n"
     ]
    },
    {
     "data": {
      "image/png": "[encoded data removed]",
      "text/plain": [
       "<Figure size 640x480 with 2 Axes>"
      ]
     },
     "metadata": {},
     "output_type": "display_data"
    },
    {
     "data": {
      "image/png": "[encoded data removed]",
      "text/plain": [
       "<Figure size 1000x600 with 1 Axes>"
      ]
     },
     "metadata": {},
     "output_type": "display_data"
    }
   ],
   "source": [
    "from xgboost import XGBClassifier\n",
    "from sklearn.metrics import accuracy_score, f1_score, confusion_matrix, ConfusionMatrixDisplay\n",
    "import matplotlib.pyplot as plt\n",
    "xgb = XGBClassifier(use_label_encoder=False, eval_metric='logloss')\n",
    "xgb.fit(X_train, y_train)\n",
    "y_pred_xgb = xgb.predict(X_test)\n",
    "acc_xgb = accuracy_score(y_test, y_pred_xgb)\n",
    "f1_xgb = f1_score(y_test, y_pred_xgb)\n",
    "cm_xgb = confusion_matrix(y_test, y_pred_xgb)\n",
    "print(f'XGBoost Accuracy: {acc_xgb:.4f}')\n",
    "print(f'XGBoost F1 Score: {f1_xgb:.4f}')\n",
    "ConfusionMatrixDisplay(cm_xgb).plot()\n",
    "plt.title('XGBoost Confusion Matrix')\n",
    "plt.show()\n",
    "# Feature importance\n",
    "plt.figure(figsize=(10,6))\n",
    "plt.barh(X.columns, xgb.feature_importances_)\n",
    "plt.title('XGBoost Feature Importances')\n",
    "plt.show()"
   ]
  },
  {
   "cell_type": "markdown",
   "id": "2ec9b1ae",
   "metadata": {},
   "source": [
    "## 4. Train an LSTM Model\n",
    "- Use Keras or TensorFlow\n",
    "- Reshape input: [samples, timesteps, features] (e.g., 5-day rolling window)\n",
    "- Define LSTM model: LSTM → Dense → Sigmoid\n",
    "- Compile with binary_crossentropy and adam\n",
    "- Train on training set\n",
    "- Evaluate: Accuracy, F1 Score, Confusion Matrix, Plot of Loss & Accuracy over epochs"
   ]
  },
  {
   "cell_type": "code",
   "execution_count": 15,
   "id": "caa35d39",
   "metadata": {},
   "outputs": [
    {
     "name": "stdout",
     "output_type": "stream",
     "text": [
      "Epoch 1/10\n"
     ]
    },
    {
     "name": "stderr",
     "output_type": "stream",
     "text": [
      "/Users/lezilez/Projects/capstone/capstone-venv/lib/python3.11/site-packages/keras/src/layers/rnn/rnn.py:199: UserWarning: Do not pass an `input_shape`/`input_dim` argument to a layer. When using Sequential models, prefer using an `Input(shape)` object as the first layer in the model instead.\n",
      "  super().__init__(**kwargs)\n"
     ]
    },
    {
     "name": "stdout",
     "output_type": "stream",
     "text": [
      "\u001b[1m11/11\u001b[0m \u001b[32m━━━━━━━━━━━━━━━━━━━━\u001b[0m\u001b[37m\u001b[0m \u001b[1m1s\u001b[0m 16ms/step - accuracy: 0.7155 - loss: nan - val_accuracy: 1.0000 - val_loss: nan\n",
      "Epoch 2/10\n",
      "\u001b[1m11/11\u001b[0m \u001b[32m━━━━━━━━━━━━━━━━━━━━\u001b[0m\u001b[37m\u001b[0m \u001b[1m1s\u001b[0m 16ms/step - accuracy: 0.7155 - loss: nan - val_accuracy: 1.0000 - val_loss: nan\n",
      "Epoch 2/10\n",
      "\u001b[1m11/11\u001b[0m \u001b[32m━━━━━━━━━━━━━━━━━━━━\u001b[0m\u001b[37m\u001b[0m \u001b[1m0s\u001b[0m 4ms/step - accuracy: 0.7155 - loss: nan - val_accuracy: 1.0000 - val_loss: nan\n",
      "Epoch 3/10\n",
      "\u001b[1m11/11\u001b[0m \u001b[32m━━━━━━━━━━━━━━━━━━━━\u001b[0m\u001b[37m\u001b[0m \u001b[1m0s\u001b[0m 4ms/step - accuracy: 0.7155 - loss: nan - val_accuracy: 1.0000 - val_loss: nan\n",
      "Epoch 3/10\n",
      "\u001b[1m11/11\u001b[0m \u001b[32m━━━━━━━━━━━━━━━━━━━━\u001b[0m\u001b[37m\u001b[0m \u001b[1m0s\u001b[0m 4ms/step - accuracy: 0.7155 - loss: nan - val_accuracy: 1.0000 - val_loss: nan\n",
      "Epoch 4/10\n",
      "\u001b[1m11/11\u001b[0m \u001b[32m━━━━━━━━━━━━━━━━━━━━\u001b[0m\u001b[37m\u001b[0m \u001b[1m0s\u001b[0m 4ms/step - accuracy: 0.7155 - loss: nan - val_accuracy: 1.0000 - val_loss: nan\n",
      "Epoch 4/10\n",
      "\u001b[1m11/11\u001b[0m \u001b[32m━━━━━━━━━━━━━━━━━━━━\u001b[0m\u001b[37m\u001b[0m \u001b[1m0s\u001b[0m 4ms/step - accuracy: 0.7155 - loss: nan - val_accuracy: 1.0000 - val_loss: nan\n",
      "Epoch 5/10\n",
      "\u001b[1m11/11\u001b[0m \u001b[32m━━━━━━━━━━━━━━━━━━━━\u001b[0m\u001b[37m\u001b[0m \u001b[1m0s\u001b[0m 4ms/step - accuracy: 0.7155 - loss: nan - val_accuracy: 1.0000 - val_loss: nan\n",
      "Epoch 5/10\n",
      "\u001b[1m11/11\u001b[0m \u001b[32m━━━━━━━━━━━━━━━━━━━━\u001b[0m\u001b[37m\u001b[0m \u001b[1m0s\u001b[0m 4ms/step - accuracy: 0.7155 - loss: nan - val_accuracy: 1.0000 - val_loss: nan\n",
      "Epoch 6/10\n",
      "\u001b[1m11/11\u001b[0m \u001b[32m━━━━━━━━━━━━━━━━━━━━\u001b[0m\u001b[37m\u001b[0m \u001b[1m0s\u001b[0m 4ms/step - accuracy: 0.7155 - loss: nan - val_accuracy: 1.0000 - val_loss: nan\n",
      "Epoch 6/10\n",
      "\u001b[1m11/11\u001b[0m \u001b[32m━━━━━━━━━━━━━━━━━━━━\u001b[0m\u001b[37m\u001b[0m \u001b[1m0s\u001b[0m 4ms/step - accuracy: 0.7155 - loss: nan - val_accuracy: 1.0000 - val_loss: nan\n",
      "Epoch 7/10\n",
      "\u001b[1m11/11\u001b[0m \u001b[32m━━━━━━━━━━━━━━━━━━━━\u001b[0m\u001b[37m\u001b[0m \u001b[1m0s\u001b[0m 4ms/step - accuracy: 0.7155 - loss: nan - val_accuracy: 1.0000 - val_loss: nan\n",
      "Epoch 7/10\n",
      "\u001b[1m11/11\u001b[0m \u001b[32m━━━━━━━━━━━━━━━━━━━━\u001b[0m\u001b[37m\u001b[0m \u001b[1m0s\u001b[0m 4ms/step - accuracy: 0.7155 - loss: nan - val_accuracy: 1.0000 - val_loss: nan\n",
      "Epoch 8/10\n",
      "\u001b[1m11/11\u001b[0m \u001b[32m━━━━━━━━━━━━━━━━━━━━\u001b[0m\u001b[37m\u001b[0m \u001b[1m0s\u001b[0m 4ms/step - accuracy: 0.7155 - loss: nan - val_accuracy: 1.0000 - val_loss: nan\n",
      "Epoch 8/10\n",
      "\u001b[1m11/11\u001b[0m \u001b[32m━━━━━━━━━━━━━━━━━━━━\u001b[0m\u001b[37m\u001b[0m \u001b[1m0s\u001b[0m 4ms/step - accuracy: 0.7155 - loss: nan - val_accuracy: 1.0000 - val_loss: nan\n",
      "Epoch 9/10\n",
      "\u001b[1m11/11\u001b[0m \u001b[32m━━━━━━━━━━━━━━━━━━━━\u001b[0m\u001b[37m\u001b[0m \u001b[1m0s\u001b[0m 4ms/step - accuracy: 0.7155 - loss: nan - val_accuracy: 1.0000 - val_loss: nan\n",
      "Epoch 9/10\n",
      "\u001b[1m11/11\u001b[0m \u001b[32m━━━━━━━━━━━━━━━━━━━━\u001b[0m\u001b[37m\u001b[0m \u001b[1m0s\u001b[0m 6ms/step - accuracy: 0.7155 - loss: nan - val_accuracy: 1.0000 - val_loss: nan\n",
      "Epoch 10/10\n",
      "\u001b[1m11/11\u001b[0m \u001b[32m━━━━━━━━━━━━━━━━━━━━\u001b[0m\u001b[37m\u001b[0m \u001b[1m0s\u001b[0m 6ms/step - accuracy: 0.7155 - loss: nan - val_accuracy: 1.0000 - val_loss: nan\n",
      "Epoch 10/10\n",
      "\u001b[1m11/11\u001b[0m \u001b[32m━━━━━━━━━━━━━━━━━━━━\u001b[0m\u001b[37m\u001b[0m \u001b[1m0s\u001b[0m 4ms/step - accuracy: 0.7155 - loss: nan - val_accuracy: 1.0000 - val_loss: nan\n",
      "\u001b[1m11/11\u001b[0m \u001b[32m━━━━━━━━━━━━━━━━━━━━\u001b[0m\u001b[37m\u001b[0m \u001b[1m0s\u001b[0m 4ms/step - accuracy: 0.7155 - loss: nan - val_accuracy: 1.0000 - val_loss: nan\n",
      "\u001b[1m1/3\u001b[0m \u001b[32m━━━━━━\u001b[0m\u001b[37m━━━━━━━━━━━━━━\u001b[0m \u001b[1m0s\u001b[0m 62ms/stepWARNING:tensorflow:5 out of the last 7 calls to <function TensorFlowTrainer.make_predict_function.<locals>.one_step_on_data_distributed at 0x17eead940> triggered tf.function retracing. Tracing is expensive and the excessive number of tracings could be due to (1) creating @tf.function repeatedly in a loop, (2) passing tensors with different shapes, (3) passing Python objects instead of tensors. For (1), please define your @tf.function outside of the loop. For (2), @tf.function has reduce_retracing=True option that can avoid unnecessary retracing. For (3), please refer to https://www.tensorflow.org/guide/function#controlling_retracing and https://www.tensorflow.org/api_docs/python/tf/function for  more details.\n",
      "\u001b[1m3/3\u001b[0m \u001b[32m━━━━━━━━━━━━━━━━━━━━\u001b[0m\u001b[37m\u001b[0m \u001b[1m0s\u001b[0m 33ms/step\n",
      "WARNING:tensorflow:5 out of the last 7 calls to <function TensorFlowTrainer.make_predict_function.<locals>.one_step_on_data_distributed at 0x17eead940> triggered tf.function retracing. Tracing is expensive and the excessive number of tracings could be due to (1) creating @tf.function repeatedly in a loop, (2) passing tensors with different shapes, (3) passing Python objects instead of tensors. For (1), please define your @tf.function outside of the loop. For (2), @tf.function has reduce_retracing=True option that can avoid unnecessary retracing. For (3), please refer to https://www.tensorflow.org/guide/function#controlling_retracing and https://www.tensorflow.org/api_docs/python/tf/function for  more details.\n",
      "\u001b[1m3/3\u001b[0m \u001b[32m━━━━━━━━━━━━━━━━━━━━\u001b[0m\u001b[37m\u001b[0m \u001b[1m0s\u001b[0m 33ms/step\n",
      "LSTM Accuracy: 1.0000\n",
      "LSTM F1 Score: 0.0000\n",
      "LSTM Accuracy: 1.0000\n",
      "LSTM F1 Score: 0.0000\n"
     ]
    },
    {
     "name": "stderr",
     "output_type": "stream",
     "text": [
      "/Users/lezilez/Projects/capstone/capstone-venv/lib/python3.11/site-packages/sklearn/metrics/_classification.py:1731: UndefinedMetricWarning: F-score is ill-defined and being set to 0.0 due to no true nor predicted samples. Use `zero_division` parameter to control this behavior.\n",
      "  _warn_prf(average, modifier, f\"{metric.capitalize()} is\", result.shape[0])\n",
      "/Users/lezilez/Projects/capstone/capstone-venv/lib/python3.11/site-packages/sklearn/metrics/_classification.py:534: UserWarning: A single label was found in 'y_true' and 'y_pred'. For the confusion matrix to have the correct shape, use the 'labels' parameter to pass all known labels.\n",
      "  warnings.warn(\n"
     ]
    },
    {
     "data": {
      "image/png": "[encoded data removed]",
      "text/plain": [
       "<Figure size 640x480 with 2 Axes>"
      ]
     },
     "metadata": {},
     "output_type": "display_data"
    },
    {
     "data": {
      "image/png": "[encoded data removed]",
      "text/plain": [
       "<Figure size 1200x500 with 2 Axes>"
      ]
     },
     "metadata": {},
     "output_type": "display_data"
    }
   ],
   "source": [
    "from tensorflow.keras.models import Sequential\n",
    "from tensorflow.keras.layers import LSTM, Dense\n",
    "from tensorflow.keras.optimizers import Adam\n",
    "from sklearn.metrics import f1_score, accuracy_score, confusion_matrix\n",
    "import numpy as np\n",
    "# Rolling window for LSTM\n",
    "def create_lstm_dataset(X, y, window=5):\n",
    "    Xs, ys = [], []\n",
    "    for i in range(len(X) - window):\n",
    "        Xs.append(X[i:i+window])\n",
    "        ys.append(y[i+window])\n",
    "    return np.array(Xs), np.array(ys)\n",
    "X_train_lstm, y_train_lstm = create_lstm_dataset(X_train_scaled, y_train.values, window=5)\n",
    "X_test_lstm, y_test_lstm = create_lstm_dataset(X_test_scaled, y_test.values, window=5)\n",
    "# LSTM model\n",
    "model = Sequential([\n",
    "    LSTM(32, input_shape=(X_train_lstm.shape[1], X_train_lstm.shape[2])),\n",
    "    Dense(1, activation='sigmoid')\n",
    "])\n",
    "model.compile(loss='binary_crossentropy', optimizer=Adam(0.001), metrics=['accuracy'])\n",
    "history = model.fit(X_train_lstm, y_train_lstm, epochs=10, batch_size=32, validation_split=0.1, verbose=1)\n",
    "# Evaluate\n",
    "y_pred_lstm = (model.predict(X_test_lstm) > 0.5).astype(int).flatten()\n",
    "acc_lstm = accuracy_score(y_test_lstm, y_pred_lstm)\n",
    "f1_lstm = f1_score(y_test_lstm, y_pred_lstm)\n",
    "cm_lstm = confusion_matrix(y_test_lstm, y_pred_lstm)\n",
    "print(f'LSTM Accuracy: {acc_lstm:.4f}')\n",
    "print(f'LSTM F1 Score: {f1_lstm:.4f}')\n",
    "ConfusionMatrixDisplay(cm_lstm).plot()\n",
    "plt.title('LSTM Confusion Matrix')\n",
    "plt.show()\n",
    "# Plot loss and accuracy\n",
    "plt.figure(figsize=(12,5))\n",
    "plt.subplot(1,2,1)\n",
    "plt.plot(history.history['loss'], label='Train Loss')\n",
    "plt.plot(history.history['val_loss'], label='Val Loss')\n",
    "plt.title('LSTM Loss')\n",
    "plt.legend()\n",
    "plt.subplot(1,2,2)\n",
    "plt.plot(history.history['accuracy'], label='Train Acc')\n",
    "plt.plot(history.history['val_accuracy'], label='Val Acc')\n",
    "plt.title('LSTM Accuracy')\n",
    "plt.legend()\n",
    "plt.show()"
   ]
  },
  {
   "cell_type": "markdown",
   "id": "8dda8ac7",
   "metadata": {},
   "source": [
    "## 5. Compare Results\n",
    "- Display side-by-side metrics: Accuracy, F1 Score, Sharpe Ratio"
   ]
  },
  {
   "cell_type": "code",
   "execution_count": 16,
   "id": "68eb740d",
   "metadata": {},
   "outputs": [
    {
     "data": {
      "application/vnd.microsoft.datawrangler.viewer.v0+json": {
       "columns": [
        {
         "name": "index",
         "rawType": "int64",
         "type": "integer"
        },
        {
         "name": "Model",
         "rawType": "object",
         "type": "string"
        },
        {
         "name": "Accuracy",
         "rawType": "float64",
         "type": "float"
        },
        {
         "name": "F1 Score",
         "rawType": "float64",
         "type": "float"
        },
        {
         "name": "Sharpe Ratio",
         "rawType": "float64",
         "type": "float"
        }
       ],
       "ref": "3f0f1d70-f185-4520-a6b7-cd8cdb170c19",
       "rows": [
        [
         "0",
         "XGBoost",
         "1.0",
         "0.0",
         "100000000.0"
        ],
        [
         "1",
         "LSTM",
         "1.0",
         "0.0",
         "100000000.0"
        ]
       ],
       "shape": {
        "columns": 4,
        "rows": 2
       }
      },
      "text/html": [
       "<div>\n",
       "<style scoped>\n",
       "    .dataframe tbody tr th:only-of-type {\n",
       "        vertical-align: middle;\n",
       "    }\n",
       "\n",
       "    .dataframe tbody tr th {\n",
       "        vertical-align: top;\n",
       "    }\n",
       "\n",
       "    .dataframe thead th {\n",
       "        text-align: right;\n",
       "    }\n",
       "</style>\n",
       "<table border=\"1\" class=\"dataframe\">\n",
       "  <thead>\n",
       "    <tr style=\"text-align: right;\">\n",
       "      <th></th>\n",
       "      <th>Model</th>\n",
       "      <th>Accuracy</th>\n",
       "      <th>F1 Score</th>\n",
       "      <th>Sharpe Ratio</th>\n",
       "    </tr>\n",
       "  </thead>\n",
       "  <tbody>\n",
       "    <tr>\n",
       "      <th>0</th>\n",
       "      <td>XGBoost</td>\n",
       "      <td>1.0</td>\n",
       "      <td>0.0</td>\n",
       "      <td>100000000.0</td>\n",
       "    </tr>\n",
       "    <tr>\n",
       "      <th>1</th>\n",
       "      <td>LSTM</td>\n",
       "      <td>1.0</td>\n",
       "      <td>0.0</td>\n",
       "      <td>100000000.0</td>\n",
       "    </tr>\n",
       "  </tbody>\n",
       "</table>\n",
       "</div>"
      ],
      "text/plain": [
       "     Model  Accuracy  F1 Score  Sharpe Ratio\n",
       "0  XGBoost       1.0       0.0   100000000.0\n",
       "1     LSTM       1.0       0.0   100000000.0"
      ]
     },
     "metadata": {},
     "output_type": "display_data"
    }
   ],
   "source": [
    "def sharpe_ratio(y_true, y_pred):\n",
    "    # Assume +1 for correct up, -1 for correct down, 0 for incorrect\n",
    "    returns = np.where(y_pred == y_true, 1, -1)\n",
    "    return np.mean(returns) / (np.std(returns) + 1e-8)\n",
    "sr_xgb = sharpe_ratio(y_test, y_pred_xgb)\n",
    "sr_lstm = sharpe_ratio(y_test_lstm, y_pred_lstm)\n",
    "results = pd.DataFrame({\n",
    "    'Model': ['XGBoost', 'LSTM'],\n",
    "    'Accuracy': [acc_xgb, acc_lstm],\n",
    "    'F1 Score': [f1_xgb, f1_lstm],\n",
    "    'Sharpe Ratio': [sr_xgb, sr_lstm]\n",
    "})\n",
    "display(results)"
   ]
  }
 ],
 "metadata": {
  "kernelspec": {
   "display_name": "capstone-venv",
   "language": "python",
   "name": "python3"
  },
  "language_info": {
   "codemirror_mode": {
    "name": "ipython",
    "version": 3
   },
   "file_extension": ".py",
   "mimetype": "text/x-python",
   "name": "python",
   "nbconvert_exporter": "python",
   "pygments_lexer": "ipython3",
   "version": "3.11.7"
  }
 },
 "nbformat": 4,
 "nbformat_minor": 5
}
